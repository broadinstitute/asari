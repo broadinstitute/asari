{
 "cells": [
  {
   "cell_type": "markdown",
   "metadata": {},
   "source": [
    "# Empirical compounds via asari v0.8\n",
    "\n",
    "➜  asari docker run -v /Users/shuzhao/li.projects:/home/jovyan -p 8888:8888 jupyter/scipy-notebook\n",
    "\n",
    "SL 2022-01-04"
   ]
  },
  {
   "cell_type": "code",
   "execution_count": 1,
   "metadata": {},
   "outputs": [
    {
     "name": "stdout",
     "output_type": "stream",
     "text": [
      "Collecting pyopenms\n",
      "  Using cached https://files.pythonhosted.org/packages/b8/75/19cea60fc9c6e6a8a7fa7b20153c12122695e8f11fa82410dcf23ab68484/pyopenms-2.4.0-cp37-cp37m-manylinux1_x86_64.whl\n",
      "Collecting mass2chem\n",
      "  Using cached https://files.pythonhosted.org/packages/78/67/4baafbf5ad004197dbb0749a4738c0d05af4f5e4b1bd6db23c4a2d5d880c/mass2chem-0.1.9-py3-none-any.whl\n",
      "Collecting metDatamodel\n",
      "\u001b[?25l  Downloading https://files.pythonhosted.org/packages/86/8c/97b074abff3a041e3c75cb8fbb2fed98b73567e3efed4e38f6aa83b8450a/metDataModel-0.4.9-py3-none-any.whl (2.1MB)\n",
      "\u001b[K     |████████████████████████████████| 2.2MB 6.5MB/s eta 0:00:01\n",
      "\u001b[?25hRequirement already satisfied: numpy in /opt/conda/lib/python3.7/site-packages (from pyopenms) (1.17.2)\n",
      "Requirement already satisfied: scipy in /opt/conda/lib/python3.7/site-packages (from mass2chem) (1.3.1)\n",
      "Installing collected packages: pyopenms, mass2chem, metDatamodel\n",
      "Successfully installed mass2chem-0.1.9 metDatamodel-0.4.9 pyopenms-2.4.0\n"
     ]
    }
   ],
   "source": [
    "!pip install pyopenms mass2chem metDatamodel"
   ]
  },
  {
   "cell_type": "code",
   "execution_count": 2,
   "metadata": {},
   "outputs": [],
   "source": [
    "import sys\n",
    "sys.path.append('asari')"
   ]
  },
  {
   "cell_type": "code",
   "execution_count": 5,
   "metadata": {},
   "outputs": [],
   "source": [
    "from asari.samples import Sample\n",
    "from asari.constructors import epdsConstructor"
   ]
  },
  {
   "cell_type": "code",
   "execution_count": 6,
   "metadata": {},
   "outputs": [
    {
     "name": "stdout",
     "output_type": "stream",
     "text": [
      "Processing T04/MG_20211022_011.mzML, found 14887 mass traces.\n",
      "Number of peaks:  4707\n"
     ]
    }
   ],
   "source": [
    "SS = Sample(input_file='T04/MG_20211022_011.mzML')\n",
    "\n",
    "SS.get_masstraces()\n",
    "SS.get_peaks(min_intensity_threshold=10000, min_fwhm=3, min_prominence_threshold=5000, snr=2)\n",
    "print(\"Number of peaks: \", len(SS.list_peaks))"
   ]
  },
  {
   "cell_type": "code",
   "execution_count": 7,
   "metadata": {},
   "outputs": [
    {
     "name": "stdout",
     "output_type": "stream",
     "text": [
      "{'id_number': 1670, 'mz': 133.09702315984987, 'rt_scan_numbers': [612, 613, 615, 617, 618, 619, 620, 621, 622, 623, 624, 625, 626, 627, 628, 629, 630, 631, 632, 633, 634, 635, 636, 637, 638, 639, 640, 642, 643, 644, 645, 646, 647, 648, 649, 651, 652, 653, 654, 655], 'intensity': [7967, 10721, 14990, 10664, 9825, 12258, 16991, 19570, 15545, 16898, 24500, 18768, 22527, 24850, 13112, 11250, 13889, 17174, 16088, 11104, 8000, 13908, 15075, 15650, 14064, 11988, 16422, 12735, 8315, 8434, 12309, 12433, 11085, 6977, 9395, 14015, 12897, 12087, 14388, 9152]}\n"
     ]
    }
   ],
   "source": [
    "print(SS.list_mass_traces[1670])"
   ]
  },
  {
   "cell_type": "code",
   "execution_count": 8,
   "metadata": {},
   "outputs": [
    {
     "data": {
      "text/plain": [
       "{'parent_masstrace_id': 1670,\n",
       " 'mz': 133.09702315984987,\n",
       " 'apex': 654,\n",
       " 'height': 14388.0,\n",
       " 'left_base': 648,\n",
       " 'right_base': 655,\n",
       " 'id_number': 555}"
      ]
     },
     "execution_count": 8,
     "metadata": {},
     "output_type": "execute_result"
    }
   ],
   "source": [
    "SS.list_peaks[555]"
   ]
  },
  {
   "cell_type": "code",
   "execution_count": 9,
   "metadata": {},
   "outputs": [],
   "source": [
    "from asari.search import *"
   ]
  },
  {
   "cell_type": "code",
   "execution_count": 10,
   "metadata": {},
   "outputs": [],
   "source": [
    "mztree = build_centurion_tree(SS.list_peaks)"
   ]
  },
  {
   "cell_type": "code",
   "execution_count": 11,
   "metadata": {},
   "outputs": [
    {
     "data": {
      "text/plain": [
       "[{'parent_masstrace_id': 2,\n",
       "  'mz': 83.06027197744332,\n",
       "  'apex': 451,\n",
       "  'height': 259387.0,\n",
       "  'left_base': 391,\n",
       "  'right_base': 595,\n",
       "  'id_number': 0}]"
      ]
     },
     "execution_count": 11,
     "metadata": {},
     "output_type": "execute_result"
    }
   ],
   "source": [
    "find_all_matches_centurion_indexed_list(83.0602, mztree)"
   ]
  },
  {
   "cell_type": "code",
   "execution_count": 12,
   "metadata": {},
   "outputs": [
    {
     "data": {
      "text/plain": [
       "[{'parent_masstrace_id': 1670,\n",
       "  'mz': 133.09702315984987,\n",
       "  'apex': 627,\n",
       "  'height': 24850.0,\n",
       "  'left_base': 612,\n",
       "  'right_base': 648,\n",
       "  'id_number': 554},\n",
       " {'parent_masstrace_id': 1670,\n",
       "  'mz': 133.09702315984987,\n",
       "  'apex': 654,\n",
       "  'height': 14388.0,\n",
       "  'left_base': 648,\n",
       "  'right_base': 655,\n",
       "  'id_number': 555}]"
      ]
     },
     "execution_count": 12,
     "metadata": {},
     "output_type": "execute_result"
    }
   ],
   "source": [
    "mztree[13309] # this is neighborhood of 133.09"
   ]
  },
  {
   "cell_type": "code",
   "execution_count": 13,
   "metadata": {},
   "outputs": [
    {
     "name": "stdout",
     "output_type": "stream",
     "text": [
      "534 [[(1, 'anchor'), (3, '13C/12C')], [(143, 'anchor'), (157, '13C/12C')], [(181, 'anchor'), (184, '13C/12C')], [(182, 'anchor'), (191, '13C/12C'), (205, '18O/16O')], [(195, 'anchor'), (206, '13C/12C')]]\n"
     ]
    }
   ],
   "source": [
    "signatures = find_isotopic_signatures(SS.list_peaks, mztree, isotopic_patterns)\n",
    "print(len(signatures), signatures[:5])"
   ]
  },
  {
   "cell_type": "code",
   "execution_count": 14,
   "metadata": {},
   "outputs": [
    {
     "data": {
      "text/plain": [
       "[[(182, 'anchor'), (191, '13C/12C'), (205, '18O/16O')],\n",
       " [(295, 'anchor'), (335, '13C/12C'), (368, 'M(13C),M(34S)')],\n",
       " [(296, 'anchor'), (339, '13C/12C'), (332, '15N/14N'), (333, '15N/14N')],\n",
       " [(541, 'anchor'), (552, '13C/12C'), (551, '15N/14N'), (558, '18O/16O')],\n",
       " [(839, 'anchor'), (866, '18O/16O'), (879, 'M(13C),M(34S)')]]"
      ]
     },
     "execution_count": 14,
     "metadata": {},
     "output_type": "execute_result"
    }
   ],
   "source": [
    "[st for st in signatures if len(st)>2][:5]"
   ]
  },
  {
   "cell_type": "markdown",
   "metadata": {},
   "source": [
    "## to initiate empCpds using the isotopic and adduct signatures \n",
    "\n",
    "via class epdsConstructor"
   ]
  },
  {
   "cell_type": "code",
   "execution_count": 15,
   "metadata": {},
   "outputs": [
    {
     "name": "stdout",
     "output_type": "stream",
     "text": [
      "Round 1 - numbers of epds and included peaks:  (534, 1180)\n",
      "Round 2 - numbers of epds and included peaks:  (534, 2043)\n",
      "Round 3 - numbers of epds:  982\n"
     ]
    }
   ],
   "source": [
    "ECCON = epdsConstructor(SS.list_peaks)\n",
    "list_empCpds = ECCON.peaks_to_epds()"
   ]
  },
  {
   "cell_type": "code",
   "execution_count": 16,
   "metadata": {},
   "outputs": [
    {
     "data": {
      "text/plain": [
       "[{'id': 355,\n",
       "  'list_peaks': [(4211, 'anchor'), (4223, '13C/12C'), (4242, '18O/16O')]},\n",
       " {'id': 356,\n",
       "  'list_peaks': [(4213, 'anchor'), (4243, '18O/16O'), (4339, 'anchor,+NH4')]},\n",
       " {'id': 357,\n",
       "  'list_peaks': [(4214, 'anchor'),\n",
       "   (4228, '13C/12C'),\n",
       "   (4247, '18O/16O'),\n",
       "   (4294, '18O/16O,Na/H, double charged')]},\n",
       " {'id': 358,\n",
       "  'list_peaks': [(4215, 'anchor'), (4231, '13C/12C'), (4339, 'anchor,+NH4')]},\n",
       " {'id': 359,\n",
       "  'list_peaks': [(4217, 'anchor'), (4232, '13C/12C'), (4339, 'anchor,+NH4')]}]"
      ]
     },
     "execution_count": 16,
     "metadata": {},
     "output_type": "execute_result"
    }
   ],
   "source": [
    "list_empCpds[355:360]"
   ]
  },
  {
   "cell_type": "code",
   "execution_count": 17,
   "metadata": {},
   "outputs": [
    {
     "data": {
      "text/plain": [
       "['__class__',\n",
       " '__delattr__',\n",
       " '__dict__',\n",
       " '__dir__',\n",
       " '__doc__',\n",
       " '__eq__',\n",
       " '__format__',\n",
       " '__ge__',\n",
       " '__getattribute__',\n",
       " '__gt__',\n",
       " '__hash__',\n",
       " '__init__',\n",
       " '__init_subclass__',\n",
       " '__le__',\n",
       " '__lt__',\n",
       " '__module__',\n",
       " '__ne__',\n",
       " '__new__',\n",
       " '__reduce__',\n",
       " '__reduce_ex__',\n",
       " '__repr__',\n",
       " '__setattr__',\n",
       " '__sizeof__',\n",
       " '__str__',\n",
       " '__subclasshook__',\n",
       " '__weakref__',\n",
       " 'extend_empCpds_by_adducts',\n",
       " 'extend_isosignatures_by_adducts',\n",
       " 'mode',\n",
       " 'peak_dict',\n",
       " 'peak_list',\n",
       " 'peaks_to_epds']"
      ]
     },
     "execution_count": 17,
     "metadata": {},
     "output_type": "execute_result"
    }
   ],
   "source": [
    "dir(ECCON)"
   ]
  },
  {
   "cell_type": "markdown",
   "metadata": {},
   "source": [
    "## Summary\n",
    "\n",
    "Starting from 4707 peaks, we got 534 empCpds by isotopic pairs, increased to 982 after by common adducts.\n",
    "\n",
    "The above is limited to isotopes and common adducts. More detailed annotation should use\n",
    "`epdsConstructor.extend_empCpds_by_adducts` (not tested yet) to include more adducts & fragments.\n"
   ]
  }
 ],
 "metadata": {
  "kernelspec": {
   "display_name": "Python 3",
   "language": "python",
   "name": "python3"
  },
  "language_info": {
   "codemirror_mode": {
    "name": "ipython",
    "version": 3
   },
   "file_extension": ".py",
   "mimetype": "text/x-python",
   "name": "python",
   "nbconvert_exporter": "python",
   "pygments_lexer": "ipython3",
   "version": "3.7.3"
  }
 },
 "nbformat": 4,
 "nbformat_minor": 2
}

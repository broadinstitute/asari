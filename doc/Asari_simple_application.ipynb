{
 "cells": [
  {
   "cell_type": "markdown",
   "metadata": {},
   "source": [
    "# Asari demo\n",
    "\n",
    "One can install asari from pip (v 0.8.9 as today), or download from GitHub:\n",
    "\n",
    "https://github.com/shuzhao-li/asari\n",
    "\n",
    "If using from a copy from GitHub, \n",
    "copy the subdirectory asari into this working directory.\n",
    "\n",
    "This notebook is run on\n",
    "$docker run -v /Users/shuzhao/play/asari_test:/home/jovyan -p 8888:8888 jupyter/scipy-notebook\n",
    "\n",
    "Do not use Jupyter notebook to process large batch data. This notebook is rather to illustrate the design to developers, and to allow any user to have a deep exploration of a small subset.\n",
    "\n",
    "Shuzhao Li, 2022-1-31"
   ]
  },
  {
   "cell_type": "code",
   "execution_count": 1,
   "metadata": {},
   "outputs": [
    {
     "name": "stdout",
     "output_type": "stream",
     "text": [
      "Requirement already satisfied: pyopenms in /opt/conda/lib/python3.7/site-packages (2.4.0)\n",
      "Collecting asari-metabolomics\n",
      "\u001b[?25l  Downloading https://files.pythonhosted.org/packages/f0/e3/cc4e863e134933d2a1347361a64f7cf08410dad3868657ff405c089cc3be/asari_metabolomics-0.8.9-py3-none-any.whl (53kB)\n",
      "\u001b[K     |████████████████████████████████| 61kB 1.2MB/s eta 0:00:01\n",
      "\u001b[?25hRequirement already satisfied: numpy in /opt/conda/lib/python3.7/site-packages (from pyopenms) (1.17.2)\n",
      "Collecting xlsxwriter (from asari-metabolomics)\n",
      "\u001b[?25l  Downloading https://files.pythonhosted.org/packages/cd/84/c239b08592a431f7ad8773f7869470255b5f1ad860d7b40a9e7ed3f01bde/XlsxWriter-3.0.2-py3-none-any.whl (149kB)\n",
      "\u001b[K     |████████████████████████████████| 153kB 1.9MB/s eta 0:00:01\n",
      "\u001b[?25hRequirement already satisfied: scipy in /opt/conda/lib/python3.7/site-packages (from asari-metabolomics) (1.3.1)\n",
      "Requirement already satisfied: matplotlib in /opt/conda/lib/python3.7/site-packages (from asari-metabolomics) (3.1.1)\n",
      "Requirement already satisfied: metDataModel in /opt/conda/lib/python3.7/site-packages (from asari-metabolomics) (0.4.9)\n",
      "Requirement already satisfied: mass2chem in /opt/conda/lib/python3.7/site-packages (from asari-metabolomics) (0.1.9)\n",
      "Requirement already satisfied: cycler>=0.10 in /opt/conda/lib/python3.7/site-packages (from matplotlib->asari-metabolomics) (0.10.0)\n",
      "Requirement already satisfied: python-dateutil>=2.1 in /opt/conda/lib/python3.7/site-packages (from matplotlib->asari-metabolomics) (2.8.0)\n",
      "Requirement already satisfied: kiwisolver>=1.0.1 in /opt/conda/lib/python3.7/site-packages (from matplotlib->asari-metabolomics) (1.1.0)\n",
      "Requirement already satisfied: pyparsing!=2.0.4,!=2.1.2,!=2.1.6,>=2.0.1 in /opt/conda/lib/python3.7/site-packages (from matplotlib->asari-metabolomics) (2.4.2)\n",
      "Requirement already satisfied: six in /opt/conda/lib/python3.7/site-packages (from cycler>=0.10->matplotlib->asari-metabolomics) (1.12.0)\n",
      "Requirement already satisfied: setuptools in /opt/conda/lib/python3.7/site-packages (from kiwisolver>=1.0.1->matplotlib->asari-metabolomics) (41.0.1)\n",
      "Installing collected packages: xlsxwriter, asari-metabolomics\n",
      "Successfully installed asari-metabolomics-0.8.9 xlsxwriter-3.0.2\n"
     ]
    }
   ],
   "source": [
    "import os, sys\n",
    "\n",
    "!pip install pyopenms asari-metabolomics\n",
    "\n",
    "# if needed\n",
    "#!pip install mass2chem metDatamodel\n",
    "\n",
    "# For local copy, one can download source from GitHub\n",
    "#sys.path.append('asari')"
   ]
  },
  {
   "cell_type": "code",
   "execution_count": 2,
   "metadata": {},
   "outputs": [],
   "source": [
    "from asari.main import *\n",
    "from asari.workflow import *\n",
    "from asari.peaks import *"
   ]
  },
  {
   "cell_type": "code",
   "execution_count": 4,
   "metadata": {},
   "outputs": [
    {
     "data": {
      "text/plain": [
       "{'project_name': 'test_asari',\n",
       " 'min_intensity_threshold': 5000,\n",
       " 'min_timepoints': 5,\n",
       " 'signal_noise_ratio': 2,\n",
       " 'peak_number_rt_calibration': 5,\n",
       " 'cache_mass_traces': False,\n",
       " 'output_filename': 'feature_table.tsv',\n",
       " 'annotation_filename': 'annotation_table.tsv',\n",
       " 'mode': 'pos',\n",
       " 'mass_range': (50, 2000),\n",
       " 'max_rtime': 300,\n",
       " 'mz_tolerance': 5,\n",
       " 'rtime_tolerance': 10,\n",
       " 'initiation_samples': [],\n",
       " 'prominence_window': 30,\n",
       " 'gaussian_shape': 0.3,\n",
       " 'min_prominence_threshold': 1666.6666666666667}"
      ]
     },
     "execution_count": 4,
     "metadata": {},
     "output_type": "execute_result"
    }
   ],
   "source": [
    "PARAMETERS"
   ]
  },
  {
   "cell_type": "code",
   "execution_count": 44,
   "metadata": {},
   "outputs": [],
   "source": [
    "# One can change parameters here\n",
    "# mode is valude\n",
    "# not fully support in version 0.8.9 yet on all parameters\n",
    "PARAMETERS['mode'] = 'neg'\n",
    "PARAMETERS['min_intensity_threshold'] = 20000"
   ]
  },
  {
   "cell_type": "code",
   "execution_count": 3,
   "metadata": {},
   "outputs": [
    {
     "name": "stdout",
     "output_type": "stream",
     "text": [
      "Working on ~~ T04/ ~~ \n",
      "\n",
      "\n",
      "Processing MG_20211022_005.mzML, found 4897 mass tracks.\n",
      "    Number of anchor m/z pairs = 1585\n",
      "Processing MG_20211022_007.mzML, found 4338 mass tracks.\n",
      "    Number of anchor m/z pairs = 1257\n",
      "Processing MG_20211022_009.mzML, found 4951 mass tracks.\n",
      "    Number of anchor m/z pairs = 1555\n",
      "Processing MG_20211022_011.mzML, found 4579 mass tracks.\n",
      "    Number of anchor m/z pairs = 1432\n",
      "Processing MG_20211022_013.mzML, found 4558 mass tracks.\n",
      "    Number of anchor m/z pairs = 1304\n",
      "Processing MG_20211022_015.mzML, found 5150 mass tracks.\n",
      "    Number of anchor m/z pairs = 1748\n",
      "\n",
      "Initiating MassGrid, ...\n",
      "    The reference sample is:\n",
      "    ||* T04/MG_20211022_015.mzML *||\n",
      "\n",
      "Adding sample to MassGrid, MG_20211022_007.mzML\n",
      "    mapped pairs = 3584 / 4338 \n",
      "Adding sample to MassGrid, MG_20211022_009.mzML\n",
      "    mapped pairs = 4614 / 4951 \n",
      "Adding sample to MassGrid, MG_20211022_011.mzML\n",
      "    mapped pairs = 4397 / 4579 \n",
      "Adding sample to MassGrid, MG_20211022_013.mzML\n",
      "    mapped pairs = 4202 / 4558 \n",
      "Adding sample to MassGrid, MG_20211022_005.mzML\n",
      "    mapped pairs = 4723 / 4897 \n",
      "\n",
      "Calibrating retention time to reference, ...\n",
      "\n",
      "\n",
      "Peak detection on 6953 composite mass tracks, ...\n",
      "\n",
      "    ... in MG_20211022_015.mzML ... incomplete elution peak at ... 111.9843 ...\n",
      "    ... in MG_20211022_015.mzML ... incomplete elution peak at ... 155.9741 ...\n",
      "    ... in MG_20211022_015.mzML ... incomplete elution peak at ... 173.9847 ...\n",
      "    ... in MG_20211022_015.mzML ... incomplete elution peak at ... 197.0007 ...\n",
      "    ... in MG_20211022_007.mzML ... incomplete elution peak at ... 111.9843 ...\n",
      "    ... in MG_20211022_007.mzML ... incomplete elution peak at ... 155.9741 ...\n",
      "    ... in MG_20211022_007.mzML ... incomplete elution peak at ... 173.9847 ...\n",
      "    ... in MG_20211022_007.mzML ... incomplete elution peak at ... 197.0007 ...\n",
      "    ... in MG_20211022_009.mzML ... incomplete elution peak at ... 111.9842 ...\n",
      "    ... in MG_20211022_009.mzML ... incomplete elution peak at ... 155.9741 ...\n",
      "    ... in MG_20211022_009.mzML ... incomplete elution peak at ... 173.9847 ...\n",
      "    ... in MG_20211022_009.mzML ... incomplete elution peak at ... 197.0007 ...\n",
      "    ... in MG_20211022_011.mzML ... incomplete elution peak at ... 111.9843 ...\n",
      "    ... in MG_20211022_011.mzML ... incomplete elution peak at ... 155.9741 ...\n",
      "    ... in MG_20211022_011.mzML ... incomplete elution peak at ... 173.9847 ...\n",
      "    ... in MG_20211022_011.mzML ... incomplete elution peak at ... 197.0007 ...\n",
      "    ... in MG_20211022_013.mzML ... incomplete elution peak at ... 111.9843 ...\n",
      "    ... in MG_20211022_013.mzML ... incomplete elution peak at ... 155.9741 ...\n",
      "    ... in MG_20211022_013.mzML ... incomplete elution peak at ... 173.9847 ...\n",
      "    ... in MG_20211022_013.mzML ... incomplete elution peak at ... 197.0007 ...\n",
      "    ... in MG_20211022_005.mzML ... incomplete elution peak at ... 111.9842 ...\n",
      "    ... in MG_20211022_005.mzML ... incomplete elution peak at ... 155.9741 ...\n",
      "    ... in MG_20211022_005.mzML ... incomplete elution peak at ... 173.9846 ...\n",
      "    ... in MG_20211022_005.mzML ... incomplete elution peak at ... 197.0007 ...\n",
      "\n",
      "\n",
      "Feature table (5748) was written to cmap_feature_table.csv.\n",
      "\n",
      "\n"
     ]
    }
   ],
   "source": [
    "mydir = 'T04/' # input mzML files in this directory, relative to root of this Notebook\n",
    "EE = ext_Experiment()\n",
    "EE.__init2__(read_project_dir(mydir), {}, PARAMETERS, '.')\n",
    "EE.process_all()"
   ]
  },
  {
   "cell_type": "markdown",
   "metadata": {},
   "source": [
    "### The above code finished all data files in the given directory\n",
    "\n",
    "Three files were written in same dir for mass grid, feature table and Empirical compound annotaion (the last is glitchy in Notebooks).\n"
   ]
  },
  {
   "cell_type": "code",
   "execution_count": 6,
   "metadata": {},
   "outputs": [
    {
     "name": "stdout",
     "output_type": "stream",
     "text": [
      "['CMAP', 'FeatureAnnotation', 'List_of_empCpds', 'ObservationAnnotation', '_get_ref_db_', 'allSamples', 'annotate', 'annotate_final', 'chromatography', 'export_feature_table', 'feature_DataFrame', 'files_meta_data', 'id', 'init_hot_db', 'initiation_samples', 'instrumentation', 'list_input_files', 'max_rtime', 'mode', 'number_of_samples', 'number_scans', 'ordered_samples', 'output_dir', 'parameters', 'process_all', 'process_initiation_samples', 'process_single_sample', 'provenance', 'reference_sample', 'samples_by_id', 'samples_by_name', 'samples_nonreference', 'serialize']\n"
     ]
    },
    {
     "data": {
      "text/plain": [
       "Index(['parent_masstrack_id', 'mz', 'apex', 'peak_area', 'height', 'left_base',\n",
       "       'right_base', 'left_index', 'right_index', 'goodness_fitting',\n",
       "       'feature_id', 'T04/MG_20211022_015.mzML', 'T04/MG_20211022_007.mzML',\n",
       "       'T04/MG_20211022_009.mzML', 'T04/MG_20211022_011.mzML',\n",
       "       'T04/MG_20211022_013.mzML', 'T04/MG_20211022_005.mzML'],\n",
       "      dtype='object')"
      ]
     },
     "execution_count": 6,
     "metadata": {},
     "output_type": "execute_result"
    }
   ],
   "source": [
    "# EE.annotate()\n",
    "# check attributes and methods in EE, i.e. Experiment\n",
    "print([x for x in dir(EE) if \"__\" not in x])\n",
    "EE.CMAP.FeatureTable.columns"
   ]
  },
  {
   "cell_type": "code",
   "execution_count": 8,
   "metadata": {},
   "outputs": [
    {
     "data": {
      "text/html": [
       "<div>\n",
       "<style scoped>\n",
       "    .dataframe tbody tr th:only-of-type {\n",
       "        vertical-align: middle;\n",
       "    }\n",
       "\n",
       "    .dataframe tbody tr th {\n",
       "        vertical-align: top;\n",
       "    }\n",
       "\n",
       "    .dataframe thead th {\n",
       "        text-align: right;\n",
       "    }\n",
       "</style>\n",
       "<table border=\"1\" class=\"dataframe\">\n",
       "  <thead>\n",
       "    <tr style=\"text-align: right;\">\n",
       "      <th></th>\n",
       "      <th>mz</th>\n",
       "      <th>T04/MG_20211022_005.mzML</th>\n",
       "      <th>T04/MG_20211022_007.mzML</th>\n",
       "      <th>T04/MG_20211022_009.mzML</th>\n",
       "      <th>T04/MG_20211022_011.mzML</th>\n",
       "      <th>T04/MG_20211022_013.mzML</th>\n",
       "      <th>T04/MG_20211022_015.mzML</th>\n",
       "    </tr>\n",
       "  </thead>\n",
       "  <tbody>\n",
       "    <tr>\n",
       "      <td>0</td>\n",
       "      <td>81.044625</td>\n",
       "      <td>0.0</td>\n",
       "      <td>0</td>\n",
       "      <td>0</td>\n",
       "      <td>0</td>\n",
       "      <td>1</td>\n",
       "      <td>0</td>\n",
       "    </tr>\n",
       "    <tr>\n",
       "      <td>1</td>\n",
       "      <td>81.520458</td>\n",
       "      <td>1.0</td>\n",
       "      <td>1</td>\n",
       "      <td>1</td>\n",
       "      <td>1</td>\n",
       "      <td>2</td>\n",
       "      <td>1</td>\n",
       "    </tr>\n",
       "    <tr>\n",
       "      <td>2</td>\n",
       "      <td>82.065031</td>\n",
       "      <td>2.0</td>\n",
       "      <td>2</td>\n",
       "      <td>2</td>\n",
       "      <td>2</td>\n",
       "      <td>3</td>\n",
       "      <td>2</td>\n",
       "    </tr>\n",
       "    <tr>\n",
       "      <td>3</td>\n",
       "      <td>83.049038</td>\n",
       "      <td>3.0</td>\n",
       "      <td>3</td>\n",
       "      <td>3</td>\n",
       "      <td>3</td>\n",
       "      <td>4</td>\n",
       "      <td>3</td>\n",
       "    </tr>\n",
       "    <tr>\n",
       "      <td>4</td>\n",
       "      <td>83.059655</td>\n",
       "      <td>4.0</td>\n",
       "      <td>4</td>\n",
       "      <td>4</td>\n",
       "      <td>4</td>\n",
       "      <td>5</td>\n",
       "      <td>4</td>\n",
       "    </tr>\n",
       "  </tbody>\n",
       "</table>\n",
       "</div>"
      ],
      "text/plain": [
       "          mz  T04/MG_20211022_005.mzML T04/MG_20211022_007.mzML  \\\n",
       "0  81.044625                       0.0                        0   \n",
       "1  81.520458                       1.0                        1   \n",
       "2  82.065031                       2.0                        2   \n",
       "3  83.049038                       3.0                        3   \n",
       "4  83.059655                       4.0                        4   \n",
       "\n",
       "  T04/MG_20211022_009.mzML T04/MG_20211022_011.mzML T04/MG_20211022_013.mzML  \\\n",
       "0                        0                        0                        1   \n",
       "1                        1                        1                        2   \n",
       "2                        2                        2                        3   \n",
       "3                        3                        3                        4   \n",
       "4                        4                        4                        5   \n",
       "\n",
       "  T04/MG_20211022_015.mzML  \n",
       "0                        0  \n",
       "1                        1  \n",
       "2                        2  \n",
       "3                        3  \n",
       "4                        4  "
      ]
     },
     "execution_count": 8,
     "metadata": {},
     "output_type": "execute_result"
    }
   ],
   "source": [
    "# MassGrid holds the mapping between features and peaks in each sample\n",
    "EE.CMAP.MassGrid.head()"
   ]
  },
  {
   "cell_type": "code",
   "execution_count": 7,
   "metadata": {},
   "outputs": [
    {
     "data": {
      "text/html": [
       "<div>\n",
       "<style scoped>\n",
       "    .dataframe tbody tr th:only-of-type {\n",
       "        vertical-align: middle;\n",
       "    }\n",
       "\n",
       "    .dataframe tbody tr th {\n",
       "        vertical-align: top;\n",
       "    }\n",
       "\n",
       "    .dataframe thead th {\n",
       "        text-align: right;\n",
       "    }\n",
       "</style>\n",
       "<table border=\"1\" class=\"dataframe\">\n",
       "  <thead>\n",
       "    <tr style=\"text-align: right;\">\n",
       "      <th></th>\n",
       "      <th>parent_masstrack_id</th>\n",
       "      <th>mz</th>\n",
       "      <th>apex</th>\n",
       "      <th>peak_area</th>\n",
       "      <th>height</th>\n",
       "      <th>left_base</th>\n",
       "      <th>right_base</th>\n",
       "      <th>left_index</th>\n",
       "      <th>right_index</th>\n",
       "      <th>goodness_fitting</th>\n",
       "      <th>feature_id</th>\n",
       "      <th>T04/MG_20211022_015.mzML</th>\n",
       "      <th>T04/MG_20211022_007.mzML</th>\n",
       "      <th>T04/MG_20211022_009.mzML</th>\n",
       "      <th>T04/MG_20211022_011.mzML</th>\n",
       "      <th>T04/MG_20211022_013.mzML</th>\n",
       "      <th>T04/MG_20211022_005.mzML</th>\n",
       "    </tr>\n",
       "  </thead>\n",
       "  <tbody>\n",
       "    <tr>\n",
       "      <td>0</td>\n",
       "      <td>0</td>\n",
       "      <td>81.044625</td>\n",
       "      <td>448</td>\n",
       "      <td>650499.745233</td>\n",
       "      <td>25633.478966</td>\n",
       "      <td>423</td>\n",
       "      <td>473</td>\n",
       "      <td>374</td>\n",
       "      <td>424</td>\n",
       "      <td>0.474219</td>\n",
       "      <td>F1</td>\n",
       "      <td>237441</td>\n",
       "      <td>49285</td>\n",
       "      <td>128415</td>\n",
       "      <td>63670</td>\n",
       "      <td>46879</td>\n",
       "      <td>126744</td>\n",
       "    </tr>\n",
       "    <tr>\n",
       "      <td>1</td>\n",
       "      <td>1</td>\n",
       "      <td>81.520458</td>\n",
       "      <td>505</td>\n",
       "      <td>321428.298743</td>\n",
       "      <td>20474.384507</td>\n",
       "      <td>483</td>\n",
       "      <td>525</td>\n",
       "      <td>20</td>\n",
       "      <td>62</td>\n",
       "      <td>0.544877</td>\n",
       "      <td>F2</td>\n",
       "      <td>44503</td>\n",
       "      <td>111010</td>\n",
       "      <td>56508</td>\n",
       "      <td>77510</td>\n",
       "      <td>61285</td>\n",
       "      <td>28594</td>\n",
       "    </tr>\n",
       "    <tr>\n",
       "      <td>2</td>\n",
       "      <td>2</td>\n",
       "      <td>82.065031</td>\n",
       "      <td>554</td>\n",
       "      <td>399704.554238</td>\n",
       "      <td>21862.482556</td>\n",
       "      <td>543</td>\n",
       "      <td>570</td>\n",
       "      <td>494</td>\n",
       "      <td>521</td>\n",
       "      <td>0.378959</td>\n",
       "      <td>F3</td>\n",
       "      <td>21594</td>\n",
       "      <td>69785</td>\n",
       "      <td>114151</td>\n",
       "      <td>45562</td>\n",
       "      <td>73657</td>\n",
       "      <td>68634</td>\n",
       "    </tr>\n",
       "    <tr>\n",
       "      <td>3</td>\n",
       "      <td>3</td>\n",
       "      <td>83.049038</td>\n",
       "      <td>624</td>\n",
       "      <td>157574.927203</td>\n",
       "      <td>11076.451014</td>\n",
       "      <td>613</td>\n",
       "      <td>636</td>\n",
       "      <td>275</td>\n",
       "      <td>298</td>\n",
       "      <td>0.356736</td>\n",
       "      <td>F4</td>\n",
       "      <td>27370</td>\n",
       "      <td>42852</td>\n",
       "      <td>18528</td>\n",
       "      <td>26008</td>\n",
       "      <td>21329</td>\n",
       "      <td>19177</td>\n",
       "    </tr>\n",
       "    <tr>\n",
       "      <td>4</td>\n",
       "      <td>3</td>\n",
       "      <td>83.049038</td>\n",
       "      <td>760</td>\n",
       "      <td>374388.822518</td>\n",
       "      <td>13580.066472</td>\n",
       "      <td>737</td>\n",
       "      <td>776</td>\n",
       "      <td>399</td>\n",
       "      <td>438</td>\n",
       "      <td>0.126670</td>\n",
       "      <td>F5</td>\n",
       "      <td>37871</td>\n",
       "      <td>86652</td>\n",
       "      <td>71603</td>\n",
       "      <td>30024</td>\n",
       "      <td>90499</td>\n",
       "      <td>70581</td>\n",
       "    </tr>\n",
       "  </tbody>\n",
       "</table>\n",
       "</div>"
      ],
      "text/plain": [
       "   parent_masstrack_id         mz  apex      peak_area        height  \\\n",
       "0                    0  81.044625   448  650499.745233  25633.478966   \n",
       "1                    1  81.520458   505  321428.298743  20474.384507   \n",
       "2                    2  82.065031   554  399704.554238  21862.482556   \n",
       "3                    3  83.049038   624  157574.927203  11076.451014   \n",
       "4                    3  83.049038   760  374388.822518  13580.066472   \n",
       "\n",
       "   left_base  right_base  left_index  right_index  goodness_fitting  \\\n",
       "0        423         473         374          424          0.474219   \n",
       "1        483         525          20           62          0.544877   \n",
       "2        543         570         494          521          0.378959   \n",
       "3        613         636         275          298          0.356736   \n",
       "4        737         776         399          438          0.126670   \n",
       "\n",
       "  feature_id  T04/MG_20211022_015.mzML  T04/MG_20211022_007.mzML  \\\n",
       "0         F1                    237441                     49285   \n",
       "1         F2                     44503                    111010   \n",
       "2         F3                     21594                     69785   \n",
       "3         F4                     27370                     42852   \n",
       "4         F5                     37871                     86652   \n",
       "\n",
       "   T04/MG_20211022_009.mzML  T04/MG_20211022_011.mzML  \\\n",
       "0                    128415                     63670   \n",
       "1                     56508                     77510   \n",
       "2                    114151                     45562   \n",
       "3                     18528                     26008   \n",
       "4                     71603                     30024   \n",
       "\n",
       "   T04/MG_20211022_013.mzML  T04/MG_20211022_005.mzML  \n",
       "0                     46879                    126744  \n",
       "1                     61285                     28594  \n",
       "2                     73657                     68634  \n",
       "3                     21329                     19177  \n",
       "4                     90499                     70581  "
      ]
     },
     "execution_count": 7,
     "metadata": {},
     "output_type": "execute_result"
    }
   ],
   "source": [
    "# FeatureTable is a dataframe for features\n",
    "EE.CMAP.FeatureTable.head()"
   ]
  },
  {
   "cell_type": "code",
   "execution_count": 10,
   "metadata": {},
   "outputs": [
    {
     "data": {
      "text/plain": [
       "(5748, 17)"
      ]
     },
     "execution_count": 10,
     "metadata": {},
     "output_type": "execute_result"
    }
   ],
   "source": [
    "EE.CMAP.FeatureTable.shape"
   ]
  },
  {
   "cell_type": "code",
   "execution_count": 9,
   "metadata": {},
   "outputs": [
    {
     "data": {
      "text/plain": [
       "0      63670\n",
       "1      77510\n",
       "2      45562\n",
       "3      26008\n",
       "4      30024\n",
       "5      20912\n",
       "6    5923628\n",
       "7     872313\n",
       "8    9451529\n",
       "9     173103\n",
       "Name: T04/MG_20211022_011.mzML, dtype: int64"
      ]
     },
     "execution_count": 9,
     "metadata": {},
     "output_type": "execute_result"
    }
   ],
   "source": [
    "# to check a sample data\n",
    "EE.CMAP.FeatureTable['T04/MG_20211022_011.mzML'][:10]"
   ]
  },
  {
   "cell_type": "code",
   "execution_count": 13,
   "metadata": {},
   "outputs": [],
   "source": [
    "good_features = EE.CMAP.FeatureTable[ EE.CMAP.FeatureTable['goodness_fitting']>0.6 ]"
   ]
  },
  {
   "cell_type": "code",
   "execution_count": 14,
   "metadata": {},
   "outputs": [
    {
     "data": {
      "text/plain": [
       "(4297, 17)"
      ]
     },
     "execution_count": 14,
     "metadata": {},
     "output_type": "execute_result"
    }
   ],
   "source": [
    "good_features.shape"
   ]
  },
  {
   "cell_type": "code",
   "execution_count": 16,
   "metadata": {},
   "outputs": [
    {
     "data": {
      "text/plain": [
       "(3076, 17)"
      ]
     },
     "execution_count": 16,
     "metadata": {},
     "output_type": "execute_result"
    }
   ],
   "source": [
    "# in good_features, how many have intensity > 100000 in sample 'T04/MG_20211022_011.mzML'\n",
    "\n",
    "good_features[good_features['T04/MG_20211022_011.mzML'] > 100000].shape\n"
   ]
  },
  {
   "cell_type": "code",
   "execution_count": 17,
   "metadata": {},
   "outputs": [
    {
     "data": {
      "text/plain": [
       "(3269, 17)"
      ]
     },
     "execution_count": 17,
     "metadata": {},
     "output_type": "execute_result"
    }
   ],
   "source": [
    "# in good_features, how many have intensity > 100000 in sample 'T04/MG_20211022_005.mzML'\n",
    "\n",
    "good_features[good_features['T04/MG_20211022_005.mzML'] > 100000].shape\n"
   ]
  },
  {
   "cell_type": "markdown",
   "metadata": {},
   "source": [
    "## Plotting mass tracks"
   ]
  },
  {
   "cell_type": "code",
   "execution_count": 18,
   "metadata": {},
   "outputs": [],
   "source": [
    "import numpy as np\n",
    "import matplotlib.pyplot as plt\n",
    "\n",
    "def plot_mz_track(track):\n",
    "    plt.figure(figsize=(12,3))\n",
    "    X = track['rt_scan_numbers']\n",
    "    Y = track['intensity']\n",
    "    plt.plot(X,Y, '.')\n",
    "    plt.title(track['mz'])\n"
   ]
  },
  {
   "cell_type": "code",
   "execution_count": 20,
   "metadata": {},
   "outputs": [
    {
     "data": {
      "image/png": "[encoded data removed]",
      "text/plain": [
       "<Figure size 864x216 with 1 Axes>"
      ]
     },
     "metadata": {
      "needs_background": "light"
     },
     "output_type": "display_data"
    }
   ],
   "source": [
    "plot_mz_track(EE.CMAP.composite_mass_tracks[255])"
   ]
  },
  {
   "cell_type": "code",
   "execution_count": 21,
   "metadata": {},
   "outputs": [
    {
     "data": {
      "image/png": "[encoded data removed]",
      "text/plain": [
       "<Figure size 864x216 with 1 Axes>"
      ]
     },
     "metadata": {
      "needs_background": "light"
     },
     "output_type": "display_data"
    }
   ],
   "source": [
    "plot_mz_track(EE.reference_sample.list_mass_tracks[255])"
   ]
  },
  {
   "cell_type": "code",
   "execution_count": 24,
   "metadata": {},
   "outputs": [
    {
     "data": {
      "text/plain": [
       "[{'parent_masstrack_id': 500,\n",
       "  'mz': 147.07628100770515,\n",
       "  'apex': 463,\n",
       "  'peak_area': 126887547.65763296,\n",
       "  'height': 10173129.382870486,\n",
       "  'left_base': 440,\n",
       "  'right_base': 488,\n",
       "  'left_index': 157,\n",
       "  'right_index': 205,\n",
       "  'goodness_fitting': 0.9126582606040231,\n",
       "  'feature_id': 'F476'},\n",
       " {'parent_masstrack_id': 501,\n",
       "  'mz': 147.08929572827887,\n",
       "  'apex': 438,\n",
       "  'peak_area': 1297867.9431884254,\n",
       "  'height': 189841.3209876543,\n",
       "  'left_base': 434,\n",
       "  'right_base': 446,\n",
       "  'left_index': 0,\n",
       "  'right_index': 12,\n",
       "  'goodness_fitting': 0.9049491433315906,\n",
       "  'feature_id': 'F477'},\n",
       " {'parent_masstrack_id': 502,\n",
       "  'mz': 147.0915351324243,\n",
       "  'apex': 50,\n",
       "  'peak_area': 427739.15616457636,\n",
       "  'height': 29012.73161505863,\n",
       "  'left_base': 40,\n",
       "  'right_base': 70,\n",
       "  'left_index': 16,\n",
       "  'right_index': 46,\n",
       "  'goodness_fitting': 0.5657273662690427,\n",
       "  'feature_id': 'F478'},\n",
       " {'parent_masstrack_id': 502,\n",
       "  'mz': 147.0915351324243,\n",
       "  'apex': 183,\n",
       "  'peak_area': 408175.9731025431,\n",
       "  'height': 27594.72601071931,\n",
       "  'left_base': 159,\n",
       "  'right_base': 202,\n",
       "  'left_index': 135,\n",
       "  'right_index': 178,\n",
       "  'goodness_fitting': 0.7322134063120429,\n",
       "  'feature_id': 'F479'},\n",
       " {'parent_masstrack_id': 502,\n",
       "  'mz': 147.0915351324243,\n",
       "  'apex': 499,\n",
       "  'peak_area': 1130494.467132457,\n",
       "  'height': 45936.73040489859,\n",
       "  'left_base': 483,\n",
       "  'right_base': 520,\n",
       "  'left_index': 459,\n",
       "  'right_index': 496,\n",
       "  'goodness_fitting': 0.6051930206736156,\n",
       "  'feature_id': 'F480'},\n",
       " {'parent_masstrack_id': 503,\n",
       "  'mz': 147.0955922651341,\n",
       "  'apex': 438,\n",
       "  'peak_area': 6980296.513266149,\n",
       "  'height': 971323.4136386488,\n",
       "  'left_base': 433,\n",
       "  'right_base': 461,\n",
       "  'left_index': 0,\n",
       "  'right_index': 28,\n",
       "  'goodness_fitting': 0.9755576778761959,\n",
       "  'feature_id': 'F481'},\n",
       " {'parent_masstrack_id': 504,\n",
       "  'mz': 147.1126646812016,\n",
       "  'apex': 518,\n",
       "  'peak_area': 3686026.5191669795,\n",
       "  'height': 212974.639378877,\n",
       "  'left_base': 512,\n",
       "  'right_base': 539,\n",
       "  'left_index': 456,\n",
       "  'right_index': 483,\n",
       "  'goodness_fitting': 0.46650743978645626,\n",
       "  'feature_id': 'F482'},\n",
       " {'parent_masstrack_id': 504,\n",
       "  'mz': 147.1126646812016,\n",
       "  'apex': 622,\n",
       "  'peak_area': 23932994.32678661,\n",
       "  'height': 1222355.6179949536,\n",
       "  'left_base': 610,\n",
       "  'right_base': 647,\n",
       "  'left_index': 554,\n",
       "  'right_index': 591,\n",
       "  'goodness_fitting': 0.7424062864117288,\n",
       "  'feature_id': 'F483'}]"
      ]
     },
     "execution_count": 24,
     "metadata": {},
     "output_type": "execute_result"
    }
   ],
   "source": [
    "# by looking at 'cmap_feature_table.csv'\n",
    "# we see how features are associated with parent mass tracks\n",
    "EE.CMAP.FeatureList[475:483]"
   ]
  },
  {
   "cell_type": "code",
   "execution_count": 23,
   "metadata": {},
   "outputs": [
    {
     "data": {
      "image/png": "[encoded data removed]",
      "text/plain": [
       "<Figure size 864x216 with 1 Axes>"
      ]
     },
     "metadata": {
      "needs_background": "light"
     },
     "output_type": "display_data"
    },
    {
     "data": {
      "image/png": "[encoded data removed]",
      "text/plain": [
       "<Figure size 864x216 with 1 Axes>"
      ]
     },
     "metadata": {
      "needs_background": "light"
     },
     "output_type": "display_data"
    },
    {
     "data": {
      "image/png": "[encoded data removed]",
      "text/plain": [
       "<Figure size 864x216 with 1 Axes>"
      ]
     },
     "metadata": {
      "needs_background": "light"
     },
     "output_type": "display_data"
    },
    {
     "data": {
      "image/png": "[encoded data removed]",
      "text/plain": [
       "<Figure size 864x216 with 1 Axes>"
      ]
     },
     "metadata": {
      "needs_background": "light"
     },
     "output_type": "display_data"
    },
    {
     "data": {
      "image/png": "[encoded data removed]",
      "text/plain": [
       "<Figure size 864x216 with 1 Axes>"
      ]
     },
     "metadata": {
      "needs_background": "light"
     },
     "output_type": "display_data"
    }
   ],
   "source": [
    "for ii in range(500,505):\n",
    "    plot_mz_track(EE.CMAP.composite_mass_tracks[ii])"
   ]
  },
  {
   "cell_type": "markdown",
   "metadata": {},
   "source": [
    "## Summary\n",
    "\n",
    "This illustrates how to access the FeatureTable as a dataframe, and how to plot mass tracks.\n",
    "\n",
    "Development is ongoing. Things may change."
   ]
  }
 ],
 "metadata": {
  "kernelspec": {
   "display_name": "Python 3",
   "language": "python",
   "name": "python3"
  },
  "language_info": {
   "codemirror_mode": {
    "name": "ipython",
    "version": 3
   },
   "file_extension": ".py",
   "mimetype": "text/x-python",
   "name": "python",
   "nbconvert_exporter": "python",
   "pygments_lexer": "ipython3",
   "version": "3.7.3"
  }
 },
 "nbformat": 4,
 "nbformat_minor": 2
}

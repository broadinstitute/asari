{
 "cells": [
  {
   "cell_type": "markdown",
   "metadata": {},
   "source": [
    "# Selectivity metrics of m/z and chromatography in asari\n",
    "\n",
    "Selectivity metrics include:\n",
    "\n",
    "- mSelectivity, how distinct are m/z measurements\n",
    "- cSelectivity, how distinct are chromatograhic elution peaks\n",
    "- dSelectivity, how distinct are database records\n",
    "\n",
    "In output feature tables, cSelectivity is reported.\n",
    "\n",
    "mSelectivity and dSelectivity are implicit in some of the processes. But it is still critical to consider them.\n"
   ]
  },
  {
   "cell_type": "code",
   "execution_count": 1,
   "metadata": {},
   "outputs": [
    {
     "name": "stdout",
     "output_type": "stream",
     "text": [
      "Requirement already up-to-date: asari-metabolomics in /opt/conda/lib/python3.7/site-packages (1.7.5)\n",
      "Requirement already satisfied, skipping upgrade: metDatamodel in /opt/conda/lib/python3.7/site-packages (from asari-metabolomics) (0.4.14)\n",
      "Requirement already satisfied, skipping upgrade: statsmodels in /opt/conda/lib/python3.7/site-packages (from asari-metabolomics) (0.10.1)\n",
      "Requirement already satisfied, skipping upgrade: pyyaml in /opt/conda/lib/python3.7/site-packages (from asari-metabolomics) (5.1.2)\n",
      "Requirement already satisfied, skipping upgrade: mass2chem in /opt/conda/lib/python3.7/site-packages (from asari-metabolomics) (0.3.2)\n",
      "Requirement already satisfied, skipping upgrade: jms-metabolite-services in /opt/conda/lib/python3.7/site-packages (from asari-metabolomics) (0.3.3)\n",
      "Requirement already satisfied, skipping upgrade: numpy in /opt/conda/lib/python3.7/site-packages (from asari-metabolomics) (1.17.2)\n",
      "Requirement already satisfied, skipping upgrade: scipy in /opt/conda/lib/python3.7/site-packages (from asari-metabolomics) (1.3.1)\n",
      "Requirement already satisfied, skipping upgrade: pymzml in /opt/conda/lib/python3.7/site-packages (from asari-metabolomics) (2.5.1)\n",
      "Requirement already satisfied, skipping upgrade: pandas>=0.19 in /opt/conda/lib/python3.7/site-packages (from statsmodels->asari-metabolomics) (0.25.1)\n",
      "Requirement already satisfied, skipping upgrade: patsy>=0.4.0 in /opt/conda/lib/python3.7/site-packages (from statsmodels->asari-metabolomics) (0.5.1)\n",
      "Requirement already satisfied, skipping upgrade: regex in /opt/conda/lib/python3.7/site-packages (from pymzml->asari-metabolomics) (2022.4.24)\n",
      "Requirement already satisfied, skipping upgrade: python-dateutil>=2.6.1 in /opt/conda/lib/python3.7/site-packages (from pandas>=0.19->statsmodels->asari-metabolomics) (2.8.0)\n",
      "Requirement already satisfied, skipping upgrade: pytz>=2017.2 in /opt/conda/lib/python3.7/site-packages (from pandas>=0.19->statsmodels->asari-metabolomics) (2019.2)\n",
      "Requirement already satisfied, skipping upgrade: six in /opt/conda/lib/python3.7/site-packages (from patsy>=0.4.0->statsmodels->asari-metabolomics) (1.12.0)\n"
     ]
    }
   ],
   "source": [
    "!pip install --upgrade asari-metabolomics"
   ]
  },
  {
   "cell_type": "code",
   "execution_count": 2,
   "metadata": {},
   "outputs": [],
   "source": [
    "import os\n",
    "import pickle\n",
    "import pandas as pd\n",
    "import matplotlib.pyplot as plt\n",
    "\n",
    "datadir = 'asari_project_MT01_51162751'"
   ]
  },
  {
   "cell_type": "code",
   "execution_count": 3,
   "metadata": {},
   "outputs": [],
   "source": [
    "# load composite map\n",
    "cmap = pickle.load( open(os.path.join(datadir, 'export', 'cmap.pickle'), 'rb') )"
   ]
  },
  {
   "cell_type": "code",
   "execution_count": 4,
   "metadata": {},
   "outputs": [
    {
     "data": {
      "text/plain": [
       "dict_keys(['_number_of_samples_', 'rt_length', 'dict_scan_rtime', 'list_mass_tracks', 'MassGrid'])"
      ]
     },
     "execution_count": 4,
     "metadata": {},
     "output_type": "execute_result"
    }
   ],
   "source": [
    "cmap.keys()"
   ]
  },
  {
   "cell_type": "code",
   "execution_count": 5,
   "metadata": {},
   "outputs": [
    {
     "data": {
      "text/plain": [
       "1018"
      ]
     },
     "execution_count": 5,
     "metadata": {},
     "output_type": "execute_result"
    }
   ],
   "source": [
    "cmap['rt_length']"
   ]
  },
  {
   "cell_type": "code",
   "execution_count": 6,
   "metadata": {},
   "outputs": [
    {
     "data": {
      "text/plain": [
       "81.01243715299981"
      ]
     },
     "execution_count": 6,
     "metadata": {},
     "output_type": "execute_result"
    }
   ],
   "source": [
    "cmap['dict_scan_rtime'][210]"
   ]
  },
  {
   "cell_type": "code",
   "execution_count": 7,
   "metadata": {},
   "outputs": [
    {
     "data": {
      "text/plain": [
       "209.99999960339474"
      ]
     },
     "execution_count": 7,
     "metadata": {},
     "output_type": "execute_result"
    }
   ],
   "source": [
    "rtu = cmap['dict_scan_rtime'][210]/210\n",
    "81.012437/rtu"
   ]
  },
  {
   "cell_type": "code",
   "execution_count": 8,
   "metadata": {},
   "outputs": [],
   "source": [
    "def plot_masstrack(track, color='m', start=100, end=400, yticks=[0, 5e7, 1e8]):\n",
    "    plt.figure(figsize=(10, 4))\n",
    "    X = range(start, end)\n",
    "    Y = track['intensity'][start: end]\n",
    "    plt.plot(X, Y, color=color, marker='o', markersize=3, linestyle='None') # 'dashed'\n",
    "    plt.yticks(yticks)\n"
   ]
  },
  {
   "cell_type": "code",
   "execution_count": 9,
   "metadata": {},
   "outputs": [
    {
     "data": {
      "image/png": "[encoded data removed]",
      "text/plain": [
       "<Figure size 720x288 with 1 Axes>"
      ]
     },
     "metadata": {
      "needs_background": "light"
     },
     "output_type": "display_data"
    }
   ],
   "source": [
    "# cSel = 0.67/0.53 for peaks in track 4889\n",
    "# F7964\t427.2803\t33.8\t31.07\t40.39\t4889\t1221314\t0.67\t0.85\t63\n",
    "# F7965\t427.2803\t81.79\t77.57\t83.74\t4889\t401800\t0.53\t0.4\t22\n",
    "\n",
    "plot_masstrack(cmap['list_mass_tracks'][4889], color='k', start=30, end=300, yticks=[])"
   ]
  },
  {
   "cell_type": "code",
   "execution_count": 10,
   "metadata": {},
   "outputs": [
    {
     "name": "stdout",
     "output_type": "stream",
     "text": [
      "80.53948540861046\n",
      "104.69873883661978\n",
      "201.07653309127494\n",
      "217.07037361174895\n"
     ]
    }
   ],
   "source": [
    "for x in [31.07, 40.39, 77.57, 83.74]:\n",
    "    print(x/rtu)"
   ]
  },
  {
   "cell_type": "code",
   "execution_count": 11,
   "metadata": {},
   "outputs": [
    {
     "name": "stderr",
     "output_type": "stream",
     "text": [
      "/opt/conda/lib/python3.7/site-packages/ipykernel_launcher.py:10: MatplotlibDeprecationWarning: Support for uppercase single-letter colors is deprecated since Matplotlib 3.1 and will be removed in 3.3; please use lowercase instead.\n",
      "  # Remove the CWD from sys.path while we load stuff.\n"
     ]
    },
    {
     "data": {
      "image/png": "[encoded data removed]",
      "text/plain": [
       "<Figure size 720x288 with 1 Axes>"
      ]
     },
     "metadata": {
      "needs_background": "light"
     },
     "output_type": "display_data"
    }
   ],
   "source": [
    "X = range(50, 260)\n",
    "Y = cmap['list_mass_tracks'][4889]['intensity'][X]\n",
    "X2 = range(80, 105)\n",
    "Y2 = cmap['list_mass_tracks'][4889]['intensity'][X2]\n",
    "X3 = range(201, 218)\n",
    "Y3 = cmap['list_mass_tracks'][4889]['intensity'][X3]\n",
    "\n",
    "plt.figure(figsize=(10, 4))\n",
    "plt.plot(X, Y, color='k', marker='o', markersize=3, linestyle='None') # 'dashed'\n",
    "plt.fill_between(X2, Y2, color='R0', alpha=0.2,)\n",
    "plt.fill_between(X3, Y3, color='R0', alpha=0.2,)\n",
    "\n",
    "plt.savefig(\"Figure_cSelectivity_example_track4889.pdf\")"
   ]
  },
  {
   "cell_type": "code",
   "execution_count": 12,
   "metadata": {},
   "outputs": [
    {
     "data": {
      "image/png": "[encoded data removed]",
      "text/plain": [
       "<Figure size 720x288 with 1 Axes>"
      ]
     },
     "metadata": {
      "needs_background": "light"
     },
     "output_type": "display_data"
    }
   ],
   "source": [
    "# cSel = 1 for both peaks in track 1975\n",
    "# F2013\t217.1183\t128.14\t125.43\t131.62\t1975\t8138952\t1\t0.99\t690\n",
    "# F2014\t217.1183\t180.42\t177.29\t183.15\t1975\t1521017\t1\t0.9\t109\n",
    "plot_masstrack(cmap['list_mass_tracks'][1975], color='k', start=230, end=500, yticks=[])"
   ]
  },
  {
   "cell_type": "code",
   "execution_count": 13,
   "metadata": {},
   "outputs": [
    {
     "name": "stdout",
     "output_type": "stream",
     "text": [
      "325.1389653943357\n",
      "341.1846498062861\n",
      "459.57017599267937\n",
      "474.76043619526894\n"
     ]
    }
   ],
   "source": [
    "for x in [125.43, 131.62, 177.29, 183.15]:\n",
    "    print(x/rtu)"
   ]
  },
  {
   "cell_type": "code",
   "execution_count": 14,
   "metadata": {},
   "outputs": [
    {
     "data": {
      "image/png": "[encoded data removed]",
      "text/plain": [
       "<Figure size 720x288 with 1 Axes>"
      ]
     },
     "metadata": {
      "needs_background": "light"
     },
     "output_type": "display_data"
    }
   ],
   "source": [
    "X = range(250, 500)\n",
    "Y = cmap['list_mass_tracks'][1975]['intensity'][X]\n",
    "X2 = range(325, 342)\n",
    "Y2 = cmap['list_mass_tracks'][1975]['intensity'][X2]\n",
    "X3 = range(459, 475)\n",
    "Y3 = cmap['list_mass_tracks'][1975]['intensity'][X3]\n",
    "\n",
    "plt.figure(figsize=(10, 4))\n",
    "plt.plot(X, Y, color='k', marker='o', markersize=3, linestyle='None') # 'dashed'\n",
    "plt.fill_between(X2, Y2, color='R0', alpha=0.2,)\n",
    "plt.fill_between(X3, Y3, color='R0', alpha=0.2,)\n",
    "\n",
    "plt.savefig(\"Figure_cSelectivity_example_track1975.pdf\")"
   ]
  },
  {
   "cell_type": "markdown",
   "metadata": {},
   "source": [
    "The above figures illustrate peaks within a mass track.\n",
    "\n",
    "cSelectivity of a peak is defined by: \n",
    "\n",
    "the fraction of data points in defined peaks of all data points above half of the intensity of the peak.\n",
    "\n",
    "## We next illustrate the mSelectivity\n",
    "\n",
    "using some random m/z values pulled out of an object."
   ]
  },
  {
   "cell_type": "code",
   "execution_count": 15,
   "metadata": {},
   "outputs": [],
   "source": [
    "# just to get some example mz data\n",
    "emp_cpds_trees = pickle.load( open(os.path.join('asari', 'db', 'emp_cpds_trees.pickle'), 'rb') )"
   ]
  },
  {
   "cell_type": "code",
   "execution_count": 16,
   "metadata": {},
   "outputs": [
    {
     "data": {
      "text/plain": [
       "[36310,\n",
       " 36318,\n",
       " 36309,\n",
       " 36317,\n",
       " 36308,\n",
       " 36314,\n",
       " 36311,\n",
       " 36321,\n",
       " 36316,\n",
       " 36312,\n",
       " 36319,\n",
       " 36322,\n",
       " 36315,\n",
       " 36307,\n",
       " 36320,\n",
       " 36306,\n",
       " 36313]"
      ]
     },
     "execution_count": 16,
     "metadata": {},
     "output_type": "execute_result"
    }
   ],
   "source": [
    "[x for x in emp_cpds_trees['pos'].keys() if 36305 < x < 36323]"
   ]
  },
  {
   "cell_type": "code",
   "execution_count": 17,
   "metadata": {},
   "outputs": [
    {
     "data": {
      "text/plain": [
       "[{'mz': 363.18021503077,\n",
       "  'parent_epd_id': 'C20H26O6_362.172939',\n",
       "  'ion_relation': 'M+H[1+]'},\n",
       " {'mz': 363.18909848276996,\n",
       "  'parent_epd_id': 'C17H28N2O5_340.199822',\n",
       "  'ion_relation': 'M+Na[1+]'},\n",
       " {'mz': 363.18054516976997,\n",
       "  'parent_epd_id': 'C21H26NO3_340.191269',\n",
       "  'ion_relation': 'M+Na[1+]'},\n",
       " {'mz': 363.18025034477,\n",
       "  'parent_epd_id': 'C20H24O5_344.162374',\n",
       "  'ion_relation': 'M+H2O+H[1+]'}]"
      ]
     },
     "execution_count": 17,
     "metadata": {},
     "output_type": "execute_result"
    }
   ],
   "source": [
    "emp_cpds_trees['pos'][36318]"
   ]
  },
  {
   "cell_type": "code",
   "execution_count": 18,
   "metadata": {},
   "outputs": [],
   "source": [
    "mL = []\n",
    "for k,v in emp_cpds_trees['pos'].items():\n",
    "    if 36500 < k < 36550:\n",
    "        mL += [ii['mz'] for ii in v]\n",
    "        "
   ]
  },
  {
   "cell_type": "code",
   "execution_count": 19,
   "metadata": {},
   "outputs": [],
   "source": [
    "mL.sort()"
   ]
  },
  {
   "cell_type": "code",
   "execution_count": 20,
   "metadata": {},
   "outputs": [],
   "source": [
    "from asari.mass_functions import calculate_selectivity"
   ]
  },
  {
   "cell_type": "code",
   "execution_count": 21,
   "metadata": {},
   "outputs": [],
   "source": [
    "spL = calculate_selectivity(mL)"
   ]
  },
  {
   "cell_type": "code",
   "execution_count": 22,
   "metadata": {},
   "outputs": [
    {
     "data": {
      "text/plain": [
       "77"
      ]
     },
     "execution_count": 22,
     "metadata": {},
     "output_type": "execute_result"
    }
   ],
   "source": [
    "len(mL)"
   ]
  },
  {
   "cell_type": "code",
   "execution_count": 23,
   "metadata": {},
   "outputs": [],
   "source": [
    "X = mL[30:50]\n",
    "Y = spL[30:50]"
   ]
  },
  {
   "cell_type": "code",
   "execution_count": 24,
   "metadata": {},
   "outputs": [
    {
     "data": {
      "text/plain": [
       "Text(0.5, 1.0, 'm/z selectivity (zoom in)')"
      ]
     },
     "execution_count": 24,
     "metadata": {},
     "output_type": "execute_result"
    },
    {
     "data": {
      "image/png": "[encoded data removed]",
      "text/plain": [
       "<Figure size 720x288 with 1 Axes>"
      ]
     },
     "metadata": {
      "needs_background": "light"
     },
     "output_type": "display_data"
    }
   ],
   "source": [
    "plt.figure(figsize=(10,4))\n",
    "\n",
    "plt.plot(X, Y, '-o', markersize=7)\n",
    "plt.vlines(X, 0, 1, color='r',linewidth=0.2)\n",
    "plt.xlabel(\"m/z\")\n",
    "plt.ylabel(\"Selectivity\")\n",
    "plt.title(\"m/z selectivity (zoom in)\")"
   ]
  },
  {
   "cell_type": "markdown",
   "metadata": {},
   "source": [
    "## Conclusion\n",
    "\n",
    "The above figure illustrates mSelectivity.\n",
    "\n",
    "Not the best example. We had more explanatory figures from 1st DB construction notebook."
   ]
  }
 ],
 "metadata": {
  "kernelspec": {
   "display_name": "Python 3",
   "language": "python",
   "name": "python3"
  },
  "language_info": {
   "codemirror_mode": {
    "name": "ipython",
    "version": 3
   },
   "file_extension": ".py",
   "mimetype": "text/x-python",
   "name": "python",
   "nbconvert_exporter": "python",
   "pygments_lexer": "ipython3",
   "version": "3.7.3"
  }
 },
 "nbformat": 4,
 "nbformat_minor": 2
}
